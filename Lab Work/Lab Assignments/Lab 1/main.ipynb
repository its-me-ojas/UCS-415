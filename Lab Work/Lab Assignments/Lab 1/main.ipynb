{
 "cells": [
  {
   "cell_type": "code",
   "execution_count": null,
   "metadata": {},
   "outputs": [],
   "source": []
  },
  {
   "cell_type": "markdown",
   "metadata": {},
   "source": [
    "4 Create a List L that is defined as= [10, 20, 30, 40, 50, 60, 70, 80].\n",
    "(i) WAP to add 200 and 300 to L.\n",
    "(ii) WAP to remove 10 and 30 from L.\n",
    "(iii) WAP to sort L in ascending order.\n",
    "(iv) WAP to sort L in descending order"
   ]
  },
  {
   "cell_type": "code",
   "execution_count": null,
   "metadata": {},
   "outputs": [],
   "source": [
    "L = [10, 20, 30, 40, 50, 60, 70, 80]\n",
    "L.append(200)\n",
    "L.append(300)\n",
    "print(L)\n",
    "L.sort()\n",
    "print(L)\n",
    "L.sort(reverse=True)\n",
    "print(L)"
   ]
  },
  {
   "cell_type": "markdown",
   "metadata": {},
   "source": [
    "5 D is a dictionary defined as D= {1:”One”, 2:”Two”, 3:”Three”, 4: “Four”, 5:”Five”}.\n",
    "(i) WAP to add new entry in D; key=6 and value is “Six”\n",
    "(ii) WAP to remove key=2.\n",
    "(iii) WAP to check if 6 key is present in D.\n",
    "(iv) WAP to count the number of elements present in D.\n",
    "(v) WAP to add all the values present D"
   ]
  },
  {
   "cell_type": "code",
   "execution_count": null,
   "metadata": {},
   "outputs": [],
   "source": [
    "D = {1: \"One\", 2: \"Two\", 3: \"Three\", 4: \"Four\", 5: \"Five\"}\n",
    "D.update({6: \"Six\"})\n",
    "print(D.pop(2))\n",
    "total_sum = 0\n",
    "if 6 in D:\n",
    "    print(\"key 6 is present\")\n",
    "for i in range(1, 7):\n",
    "    print(D.get(i))\n",
    "for i in D.keys():\n",
    "    total_sum += i\n",
    "print(\"the sum is\", int(total_sum))\n"
   ]
  },
  {
   "cell_type": "markdown",
   "metadata": {},
   "source": [
    "6 WAP to create a list of 100 random numbers between 100 and 900. Count and print the:\n",
    "(i) All odd numbers\n",
    "(ii) All even numbers\n",
    "(iii) All prime numbers"
   ]
  },
  {
   "cell_type": "code",
   "execution_count": null,
   "metadata": {},
   "outputs": [],
   "source": [
    "import random\n",
    "random_list = []\n",
    "for i in range(100):\n",
    "    random_list.append(random.randint(100, 901))\n",
    "print(random_list)\n",
    "odd_list = []\n",
    "even_list = []\n",
    "prime_list = []\n",
    "divided = False\n",
    "for i in random_list:\n",
    "    divided = False\n",
    "    if i % 2 == 0:\n",
    "        even_list.append(i)\n",
    "    else:\n",
    "        odd_list.append(i)\n",
    "    # check for prime number\n",
    "    for j in range (2,i):\n",
    "        if i % j == 0:\n",
    "            divided=True\n",
    "    if not divided:\n",
    "        prime_list.append(i)\n",
    "    \n",
    "print(\"even list\", even_list)\n",
    "print(\"odd list\", odd_list)\n",
    "print(\"prime list\", prime_list)"
   ]
  },
  {
   "cell_type": "markdown",
   "metadata": {},
   "source": [
    "(i) Write a function which takes principal amount, interest rate and time. This function returns\n",
    "compound interest. Call this function to print the output.\n",
    "(ii) Save this function (as a module) in a python file and call it in another python file. "
   ]
  },
  {
   "cell_type": "code",
   "execution_count": null,
   "metadata": {},
   "outputs": [],
   "source": [
    "import CI\n",
    "print(CI.compound_interest(1000, 10, 1))"
   ]
  },
  {
   "cell_type": "markdown",
   "metadata": {},
   "source": [
    "A) Make a class called Restaurant. The __init__() method for Restaurant should store two\n",
    "attributes: a restaurant_name and a cuisine_type. Make a method called describe_restaurant()\n",
    "that prints these two pieces of information, and a method called open_restaurant() that prints a\n",
    "message indicating that the restaurant is open. Make an instance called restaurant from your\n",
    "class. Print the two attributes individually, and then call both methods.\n",
    "B) Make a class called User. Create two attributes called first_name and last_name, and then\n",
    "create several other attributes that are typically stored in a user profile. Make a method called\n",
    "describe_user() that prints a summary of the user’s information. Make another method called\n",
    "greet_user() that prints a personalized greeting to the user. Create several instances representing\n",
    "different users, and call both method for each user."
   ]
  },
  {
   "cell_type": "code",
   "execution_count": 36,
   "metadata": {},
   "outputs": [
    {
     "name": "stdout",
     "output_type": "stream",
     "text": [
      "Wrap Chick\n",
      "Fast Food\n",
      "The restaurant name is Wrap Chick and the cuisine type is Fast Food\n",
      "The restaurant Wrap Chick is open\n",
      "The user name is John Doe and the age is 25\n",
      "Hello John Doe\n"
     ]
    }
   ],
   "source": [
    "class Restaurant:\n",
    "    def __init__(self,restaurant_name,cuisine_type):\n",
    "        self.restaurant_name = restaurant_name\n",
    "        self.cuisine_type = cuisine_type\n",
    "    \n",
    "    def describe_restaurant(self):\n",
    "        print(f\"The restaurant name is {self.restaurant_name} and the cuisine type is {self.cuisine_type}\")\n",
    "    \n",
    "    def open_restaurant(self):\n",
    "        print(f\"The restaurant {self.restaurant_name} is open\")\n",
    "\n",
    "wrapChick=Restaurant(\"Wrap Chick\",\"Fast Food\")\n",
    "print(wrapChick.restaurant_name)\n",
    "print(wrapChick.cuisine_type)\n",
    "wrapChick.describe_restaurant()\n",
    "wrapChick.open_restaurant()\n",
    "\n",
    "class User:\n",
    "    def __init__(self,first_name,last_name,age):\n",
    "        self.first_name = first_name\n",
    "        self.last_name = last_name\n",
    "        self.age = age\n",
    "    \n",
    "    def describe_user(self):\n",
    "        print(f\"The user name is {self.first_name} {self.last_name} and the age is {self.age}\")\n",
    "        \n",
    "    def greet_user(self):\n",
    "        print(f\"Hello {self.first_name} {self.last_name}\")\n",
    "        \n",
    "user1=User(\"John\",\"Doe\",25)\n",
    "user1.describe_user()\n",
    "user1.greet_user()\n"
   ]
  }
 ],
 "metadata": {
  "kernelspec": {
   "display_name": ".venv",
   "language": "python",
   "name": "python3"
  },
  "language_info": {
   "codemirror_mode": {
    "name": "ipython",
    "version": 3
   },
   "file_extension": ".py",
   "mimetype": "text/x-python",
   "name": "python",
   "nbconvert_exporter": "python",
   "pygments_lexer": "ipython3",
   "version": "3.11.7"
  }
 },
 "nbformat": 4,
 "nbformat_minor": 2
}
